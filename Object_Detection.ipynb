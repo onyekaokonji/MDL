{
  "nbformat": 4,
  "nbformat_minor": 0,
  "metadata": {
    "colab": {
      "name": "Object Detection.ipynb",
      "provenance": [],
      "collapsed_sections": []
    },
    "kernelspec": {
      "name": "python3",
      "display_name": "Python 3"
    },
    "language_info": {
      "name": "python"
    }
  },
  "cells": [
    {
      "cell_type": "code",
      "execution_count": 1,
      "metadata": {
        "id": "7OF4g8o97xmQ"
      },
      "outputs": [],
      "source": [
        "# imports\n",
        "import cv2\n",
        "import numpy as np\n",
        "import imutils\n",
        "import time\n",
        "import matplotlib.pyplot as plt\n",
        "from imutils.object_detection import non_max_suppression\n",
        "from google.colab.patches import cv_imshow\n",
        "\n",
        "import tensorflow as tf\n",
        "from tensorflow.keras.utils import img_to_array"
      ]
    },
    {
      "cell_type": "code",
      "source": [
        "# defining utility functions\n",
        "\n",
        "def sliding_window(image, step, window_size):\n",
        "  # loop through the width and height of the image to detemine the movement of the sliding windo\n",
        "  # the window moves in steps which corresponds to the pixels in each image (step of 1 means it will move 1px left and right\n",
        "  # and this can be pretty slow and computationally expensive, so we choose 4 px), the minimum and maximum distance it can move \n",
        "  # is calculated from the start of the corner of the image to the distance obtained from the subtraction of the image shape and window size\n",
        "  for y in range(0, image.shape[0] - window_size[1], step):\n",
        "    for x in range(0, image.shape[1] - window_size[0], step):\n",
        "      # yeild the sliding window\n",
        "      yield (x, y, image[y: y + window_size[1], x: x + window_size[0]])\n",
        "\n",
        "\n",
        "def image_pyramid(image, scale_factor, minimum_image_size):\n",
        "  # yeild the first image\n",
        "  yield image\n",
        "\n",
        "  while True:\n",
        "    # while True, the image pyramids are continually produced until ...\n",
        "    # the different sizes of the images are obtained via a scale factor\n",
        "    new_image_dimension = int(image.shape[1]/scale_factor)\n",
        "    image = cv2.resize(image, (new_image_dimension, new_image_dimension), cv2.INTER_CUBIC)\n",
        "\n",
        "    # if the images formed becomes lesser than the expected minimum, we stop the pyramid\n",
        "    if image.shape[0] < minimum_image_size[0] or image.shape[1] < minimum_image_size[1]:\n",
        "      break\n",
        "\n",
        "    yield image"
      ],
      "metadata": {
        "id": "QexR80DL7_sn"
      },
      "execution_count": 2,
      "outputs": []
    },
    {
      "cell_type": "code",
      "source": [
        "# define parameters\n",
        "scale_factor = 1.5\n",
        "minimum_image_size = (32, 32)\n",
        "window_size = (16, 16)\n",
        "resize = (64, 64)\n",
        "step = 4\n",
        "confidence_threshold = 0.9"
      ],
      "metadata": {
        "id": "wvxZ814__clN"
      },
      "execution_count": 3,
      "outputs": []
    },
    {
      "cell_type": "code",
      "source": [
        "# load saved model\n",
        "model = tf.keras.models.load_model('/content/densenet.h5')"
      ],
      "metadata": {
        "id": "rcTl_73P7_vC"
      },
      "execution_count": 4,
      "outputs": []
    },
    {
      "cell_type": "code",
      "source": [
        "orig_image = cv2.imread('/content/3.jpeg')\n",
        "orig_image = cv2.resize(orig_image, resize, cv2.INTER_CUBIC)\n",
        "h, w = orig_image.shape[:2]"
      ],
      "metadata": {
        "id": "yVYuN6bd7_xb"
      },
      "execution_count": 33,
      "outputs": []
    },
    {
      "cell_type": "code",
      "source": [
        "image_pyramids = image_pyramid(orig_image, scale_factor, minimum_image_size)\n",
        "\n",
        "ROIs = []\n",
        "LOC = []\n",
        "\n",
        "for image in image_pyramids:\n",
        "\n",
        "  scale = orig_image.shape[1] / image.shape[1]\n",
        "\n",
        "  for (x, y, ROI_Image) in sliding_window(image, step, window_size):\n",
        "    x = int(x * scale) # scaling the output to the size of the original images\n",
        "    y = int(y * scale)\n",
        "    w = int(window_size[1] * scale)\n",
        "    h = int(window_size[0] * scale)\n",
        "\n",
        "    # resize the ROI Images to the size expected by the model instantiated above\n",
        "    roi = cv2.resize(ROI_Image, resize)\n",
        "    roi = img_to_array(roi)\n",
        "    #roi = np.expand_dims(roi, axis = 0)\n",
        "    roi = roi/255.0\n",
        "    ROIs.append(roi)\n",
        "\n",
        "    # append box dimensions to LOC\n",
        "    LOC.append((x, y, x + w , y + h))"
      ],
      "metadata": {
        "id": "qgGmfqgs7_z0"
      },
      "execution_count": 34,
      "outputs": []
    },
    {
      "cell_type": "code",
      "source": [
        "ROIs = np.array(ROIs)\n",
        "\n",
        "start = time.time()\n",
        "prediction = model.predict(ROIs)\n",
        "end = time.time()\n",
        "print(f'Time taken for prediction is {round((end - start), 2)}seconds')\n",
        "\n",
        "#class_label = ['Parastizied', 'Uninfected']\n",
        "\n",
        "labels = {}\n",
        "\n",
        "for i, pred in enumerate(prediction):\n",
        "  if (np.max(pred) == 1):\n",
        "    class_label = 'Parasitized'\n",
        "  elif (np.max(pred) < 1):\n",
        "    class_label = 'Uninfected'\n",
        "\n",
        "  if ((np.max(pred) > confidence_threshold) and (class_label == 'Parasitized')):\n",
        "    box = LOC[i]\n",
        "    \n",
        "    L = labels.get(class_label, []) #search for class labels, none will be found so we return an empty list.\n",
        "    L.append((box, np.max(pred))) # extend the empty list with the box dimensions and probabilities\n",
        "    labels[class_label] = L #"
      ],
      "metadata": {
        "id": "Nr5yWjuB7_24",
        "colab": {
          "base_uri": "https://localhost:8080/"
        },
        "outputId": "93746354-28fa-4899-97dd-f7ab9673788a"
      },
      "execution_count": 35,
      "outputs": [
        {
          "output_type": "stream",
          "name": "stdout",
          "text": [
            "Time taken for prediction is 2.56seconds\n"
          ]
        }
      ]
    },
    {
      "cell_type": "code",
      "source": [
        "for label in labels.keys():\n",
        "\n",
        "  clone = orig_image.copy()\n",
        "  \n",
        "  boxes = np.array([p[0] for p in labels[label]])\n",
        "  probabilities = np.array([p[1] for p in labels[label]])\n",
        "  boxes = non_max_suppression(boxes, probabilities)\n",
        "\n",
        "  for (startX, startY, endX, endY) in boxes:\n",
        "    cv2.rectangle(clone, (startX, startY), (endX, endY), (255, 0, 0), 1)\n",
        "    \n",
        "    #Y = startY - 10 if startY - 10 > 10 else startY + 10\n",
        "\n",
        "    #cv2.putText(clone, class_label, (startX, Y), cv2.FONT_HERSHEY_SIMPLEX, 0.45, (0, 0, 255), 1)\n",
        "  \n",
        "  plt.figure(figsize= (8, 6))\n",
        "  plt.imshow(clone)"
      ],
      "metadata": {
        "id": "s_ucLJI87_46",
        "colab": {
          "base_uri": "https://localhost:8080/",
          "height": 376
        },
        "outputId": "1504a835-193b-4696-bf77-9d03153f2bc3"
      },
      "execution_count": 41,
      "outputs": [
        {
          "output_type": "display_data",
          "data": {
            "text/plain": [
              "<Figure size 576x432 with 1 Axes>"
            ],
            "image/png": "[encoded data removed]"
          },
          "metadata": {
            "needs_background": "light"
          }
        }
      ]
    },
    {
      "cell_type": "code",
      "source": [
        ""
      ],
      "metadata": {
        "id": "9bMT632c8v7J"
      },
      "execution_count": null,
      "outputs": []
    }
  ]
}