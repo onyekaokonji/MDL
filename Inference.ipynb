{
  "nbformat": 4,
  "nbformat_minor": 0,
  "metadata": {
    "colab": {
      "name": "Inference.ipynb",
      "provenance": [],
      "collapsed_sections": []
    },
    "kernelspec": {
      "name": "python3",
      "display_name": "Python 3"
    },
    "language_info": {
      "name": "python"
    },
    "accelerator": "GPU"
  },
  "cells": [
    {
      "cell_type": "code",
      "execution_count": 14,
      "metadata": {
        "id": "x7FNQZzv7aiV"
      },
      "outputs": [],
      "source": [
        "# imports\n",
        "\n",
        "import cv2\n",
        "import time\n",
        "import numpy as np\n",
        "import tensorflow as tf\n",
        "from tensorflow.keras.models import load_model\n",
        "from google.colab.patches import cv_imshow"
      ]
    },
    {
      "cell_type": "code",
      "source": [
        "# define utility function\n",
        "\n",
        "def load_and_preprocess_test_images(img_path, img_size):\n",
        "  img = cv2.imread(img_path)\n",
        "  img = cv2.cvtColor(img, cv2.COLOR_BGR2RGB)\n",
        "  img = cv2.resize(img, img_size, cv2.INTER_CUBIC)\n",
        "\n",
        "  img_copy = img.copy()\n",
        "  img_copy = cv2.cvtColor(img_copy, cv2.COLOR_RGB2GRAY)\n",
        "  img_copy = cv2.GaussianBlur(img_copy, (7,7), 0)\n",
        "  edges = cv2.Canny(img_copy, threshold1 = 80, threshold2 = 160)\n",
        "  edges = cv2.cvtColor(edges, cv2.COLOR_GRAY2RGB)\n",
        "  final_img = cv2.addWeighted(img, 0.5, edges, 0.5, 0)\n",
        "  final_img = np.expand_dims(final_img, axis = 0)\n",
        "  final_img = final_img/255.\n",
        "\n",
        "  return final_img"
      ],
      "metadata": {
        "id": "Tc_oxt3I8PBH"
      },
      "execution_count": 2,
      "outputs": []
    },
    {
      "cell_type": "code",
      "source": [
        "# load model\n",
        "\n",
        "model = load_model(\"/content/densenet_model\")"
      ],
      "metadata": {
        "id": "rsxs7WKi9Zp3"
      },
      "execution_count": 3,
      "outputs": []
    },
    {
      "cell_type": "code",
      "source": [
        "# load image\n",
        "\n",
        "img = load_and_preprocess_test_images(img_path = \"/content/C100P61ThinF_IMG_20150918_145042_cell_162.png\", img_size = (64, 64))"
      ],
      "metadata": {
        "id": "A4D8X6VB9qfM"
      },
      "execution_count": 15,
      "outputs": []
    },
    {
      "cell_type": "code",
      "source": [
        "# run predictions\n",
        "\n",
        "start = time.time()\n",
        "preds = model.predict(img)\n",
        "end = time.time()\n",
        "print('Time taken for inference : {}seconds'.format(round((end - start), 2)))"
      ],
      "metadata": {
        "id": "I_V_E8Wq9dtH",
        "colab": {
          "base_uri": "https://localhost:8080/"
        },
        "outputId": "49619ce1-efab-497c-9bcd-fb1ea8b85d02"
      },
      "execution_count": 17,
      "outputs": [
        {
          "output_type": "stream",
          "name": "stdout",
          "text": [
            "Time taken for inference : 0.1seconds\n"
          ]
        }
      ]
    },
    {
      "cell_type": "code",
      "source": [
        "preds"
      ],
      "metadata": {
        "colab": {
          "base_uri": "https://localhost:8080/"
        },
        "id": "h45MxI3S2_fi",
        "outputId": "38ecbcc1-865b-4d2b-987f-4b878b81e5fa"
      },
      "execution_count": 18,
      "outputs": [
        {
          "output_type": "execute_result",
          "data": {
            "text/plain": [
              "array([[0.04867826, 0.9513218 ]], dtype=float32)"
            ]
          },
          "metadata": {},
          "execution_count": 18
        }
      ]
    },
    {
      "cell_type": "code",
      "source": [
        "# obtain class labels\n",
        "\n",
        "class_indices = np.argmax(preds, axis = 1)"
      ],
      "metadata": {
        "id": "2wUWF_hI-FTH"
      },
      "execution_count": 19,
      "outputs": []
    },
    {
      "cell_type": "code",
      "source": [
        "if class_indices == 0:\n",
        "  class_label = 'Uninfected'\n",
        "\n",
        "else:\n",
        "  class_label = 'Parasitized'\n",
        "\n",
        "class_label"
      ],
      "metadata": {
        "colab": {
          "base_uri": "https://localhost:8080/",
          "height": 35
        },
        "id": "TBEofQmcAr-5",
        "outputId": "422ec557-8084-46ff-d93b-d7f76f5b4767"
      },
      "execution_count": 20,
      "outputs": [
        {
          "output_type": "execute_result",
          "data": {
            "text/plain": [
              "'Parasitized'"
            ],
            "application/vnd.google.colaboratory.intrinsic+json": {
              "type": "string"
            }
          },
          "metadata": {},
          "execution_count": 20
        }
      ]
    }
  ]
}