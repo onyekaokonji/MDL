{
  "cells": [
    {
      "cell_type": "code",
      "execution_count": 1,
      "metadata": {
        "id": "x7FNQZzv7aiV"
      },
      "outputs": [],
      "source": [
        "# imports\n",
        "\n",
        "import cv2\n",
        "import time\n",
        "import numpy as np\n",
        "import tensorflow as tf\n",
        "from tensorflow.keras.models import load_model\n",
        "from google.colab.patches import cv_imshow"
      ]
    },
    {
      "cell_type": "code",
      "execution_count": 2,
      "metadata": {
        "id": "Tc_oxt3I8PBH"
      },
      "outputs": [],
      "source": [
        "# define utility function\n",
        "\n",
        "def load_and_preprocess_test_images(img_path, img_size):\n",
        "  img = cv2.imread(img_path)\n",
        "  img = cv2.cvtColor(img, cv2.COLOR_BGR2RGB)\n",
        "  img = cv2.resize(img, img_size, cv2.INTER_CUBIC)\n",
        "\n",
        "  img_copy = img.copy()\n",
        "  img_copy = cv2.cvtColor(img_copy, cv2.COLOR_RGB2GRAY)\n",
        "  img_copy = cv2.GaussianBlur(img_copy, (7,7), 0)\n",
        "  edges = cv2.Canny(img_copy, threshold1 = 80, threshold2 = 160)\n",
        "  edges = cv2.cvtColor(edges, cv2.COLOR_GRAY2RGB)\n",
        "  final_img = cv2.addWeighted(img, 0.5, edges, 0.5, 0)\n",
        "  final_img = np.expand_dims(final_img, axis = 0)\n",
        "  final_img = final_img/255.\n",
        "\n",
        "  return final_img"
      ]
    },
    {
      "cell_type": "code",
      "execution_count": 3,
      "metadata": {
        "id": "rsxs7WKi9Zp3"
      },
      "outputs": [],
      "source": [
        "# load model\n",
        "\n",
        "model = load_model(\"/content/drive/MyDrive/densenet_model\")"
      ]
    },
    {
      "cell_type": "code",
      "execution_count": 16,
      "metadata": {
        "id": "A4D8X6VB9qfM"
      },
      "outputs": [],
      "source": [
        "# load image\n",
        "\n",
        "img = load_and_preprocess_test_images(img_path = \"/content/c.png\", img_size = (75, 75))"
      ]
    },
    {
      "cell_type": "code",
      "execution_count": 17,
      "metadata": {
        "colab": {
          "base_uri": "https://localhost:8080/"
        },
        "id": "I_V_E8Wq9dtH",
        "outputId": "2e88487f-1fb0-4451-872e-18418a940267"
      },
      "outputs": [
        {
          "name": "stdout",
          "output_type": "stream",
          "text": [
            "1/1 [==============================] - 0s 38ms/step\n",
            "Time taken for inference : 0.11seconds\n"
          ]
        }
      ],
      "source": [
        "# run predictions\n",
        "\n",
        "start = time.time()\n",
        "preds = model.predict(img)\n",
        "end = time.time()\n",
        "print('Time taken for inference : {}seconds'.format(round((end - start), 2)))"
      ]
    },
    {
      "cell_type": "code",
      "execution_count": 18,
      "metadata": {
        "id": "2wUWF_hI-FTH"
      },
      "outputs": [],
      "source": [
        "# obtain class labels\n",
        "\n",
        "class_indices = np.argmax(preds, axis = 1)"
      ]
    },
    {
      "cell_type": "code",
      "execution_count": 19,
      "metadata": {
        "colab": {
          "base_uri": "https://localhost:8080/",
          "height": 35
        },
        "id": "TBEofQmcAr-5",
        "outputId": "309c0eb4-13a7-428b-dfb6-5a41e3c10db9"
      },
      "outputs": [
        {
          "data": {
            "application/vnd.google.colaboratory.intrinsic+json": {
              "type": "string"
            },
            "text/plain": [
              "'Uninfected'"
            ]
          },
          "execution_count": 19,
          "metadata": {},
          "output_type": "execute_result"
        }
      ],
      "source": [
        "if class_indices == 0:\n",
        "  class_label = 'Uninfected'\n",
        "\n",
        "else:\n",
        "  class_label = 'Parasitized'\n",
        "\n",
        "class_label"
      ]
    }
  ],
  "metadata": {
    "accelerator": "GPU",
    "colab": {
      "provenance": []
    },
    "kernelspec": {
      "display_name": "Python 3",
      "language": "python",
      "name": "python3"
    },
    "language_info": {
      "name": "python",
      "version": "3.7.13"
    },
    "vscode": {
      "interpreter": {
        "hash": "a7f271c4f9a64a3898cabbb1f95591bb1c243cf6f6cbad535288e3c51e426883"
      }
    }
  },
  "nbformat": 4,
  "nbformat_minor": 0
}
